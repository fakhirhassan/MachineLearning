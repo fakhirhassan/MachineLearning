{
 "cells": [
  {
   "cell_type": "code",
   "execution_count": 3,
   "metadata": {},
   "outputs": [],
   "source": [
    "import sqlite3 as sql"
   ]
  },
  {
   "cell_type": "code",
   "execution_count": 4,
   "metadata": {},
   "outputs": [],
   "source": [
    "connection = sql.connect('database.db')\n",
    "cursor = connection.cursor()\n"
   ]
  },
  {
   "cell_type": "code",
   "execution_count": 5,
   "metadata": {},
   "outputs": [],
   "source": [
    "cursor.execute('''CREATE TABLE IF NOT EXISTS users\n",
    "                (id INTEGER PRIMARY KEY AUTOINCREMENT,\n",
    "                username TEXT,\n",
    "                password TEXT)''')\n",
    "connection.commit()"
   ]
  },
  {
   "cell_type": "code",
   "execution_count": 6,
   "metadata": {},
   "outputs": [],
   "source": [
    "#insert data\n",
    "cursor.execute('''INSERT INTO users (username, password) VALUES ('admin', 'admin')''')\n",
    "connection.commit()"
   ]
  },
  {
   "cell_type": "code",
   "execution_count": 7,
   "metadata": {},
   "outputs": [],
   "source": [
    "cursor.execute(''' Insert INTO users (username, password) VALUES ('user', 'user')''')\n",
    "connection.commit()"
   ]
  },
  {
   "cell_type": "code",
   "execution_count": 9,
   "metadata": {},
   "outputs": [
    {
     "name": "stdout",
     "output_type": "stream",
     "text": [
      "(1, 'admin', 'admin')\n",
      "(2, 'user', 'user')\n"
     ]
    }
   ],
   "source": [
    "cursor.execute('''SELECT * FROM users''')\n",
    "rows = cursor.fetchall()\n",
    "for row in rows:\n",
    "    print(row)"
   ]
  },
  {
   "cell_type": "code",
   "execution_count": 10,
   "metadata": {},
   "outputs": [],
   "source": [
    "#working with sales data\n",
    "connection = sql.connect('sales.db')\n",
    "cursor = connection.cursor()\n",
    "cursor.execute('''CREATE TABLE IF NOT EXISTS sales\n",
    "                (id INTEGER PRIMARY KEY AUTOINCREMENT,\n",
    "                product TEXT,\n",
    "                quantity INTEGER,\n",
    "                price REAL)''')\n",
    "sales = [('Laptop', 10, 1000),\n",
    "            ('Mouse', 20, 20),\n",
    "            ('Keyboard', 10, 50),\n",
    "            ('Monitor', 5, 200)]\n",
    "cursor.executemany('''INSERT INTO sales (product, quantity, price) VALUES (?, ?, ?)''', sales)\n",
    "connection.commit()\n"
   ]
  },
  {
   "cell_type": "code",
   "execution_count": 11,
   "metadata": {},
   "outputs": [
    {
     "name": "stdout",
     "output_type": "stream",
     "text": [
      "(1, 'Laptop', 10, 1000.0)\n",
      "(2, 'Mouse', 20, 20.0)\n",
      "(3, 'Keyboard', 10, 50.0)\n",
      "(4, 'Monitor', 5, 200.0)\n"
     ]
    }
   ],
   "source": [
    "#fetch data from sales\n",
    "cursor.execute('''SELECT * FROM sales''')\n",
    "rows = cursor.fetchall()\n",
    "for row in rows:\n",
    "    print(row)"
   ]
  },
  {
   "cell_type": "code",
   "execution_count": null,
   "metadata": {},
   "outputs": [],
   "source": []
  }
 ],
 "metadata": {
  "kernelspec": {
   "display_name": "Python 3",
   "language": "python",
   "name": "python3"
  },
  "language_info": {
   "codemirror_mode": {
    "name": "ipython",
    "version": 3
   },
   "file_extension": ".py",
   "mimetype": "text/x-python",
   "name": "python",
   "nbconvert_exporter": "python",
   "pygments_lexer": "ipython3",
   "version": "3.10.0"
  }
 },
 "nbformat": 4,
 "nbformat_minor": 2
}
