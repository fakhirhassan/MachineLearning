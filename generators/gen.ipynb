{
 "cells": [
  {
   "cell_type": "code",
   "execution_count": 1,
   "metadata": {},
   "outputs": [],
   "source": [
    "def square(n):\n",
    "    for i in range(3):\n",
    "        yield i**2"
   ]
  },
  {
   "cell_type": "code",
   "execution_count": 2,
   "metadata": {},
   "outputs": [
    {
     "data": {
      "text/plain": [
       "<generator object square at 0x121ee4040>"
      ]
     },
     "execution_count": 2,
     "metadata": {},
     "output_type": "execute_result"
    }
   ],
   "source": [
    "square(3)"
   ]
  },
  {
   "cell_type": "code",
   "execution_count": 4,
   "metadata": {},
   "outputs": [
    {
     "name": "stdout",
     "output_type": "stream",
     "text": [
      "0\n",
      "1\n",
      "4\n"
     ]
    }
   ],
   "source": [
    "for i in square(3):\n",
    "    print(i)"
   ]
  },
  {
   "cell_type": "code",
   "execution_count": 15,
   "metadata": {},
   "outputs": [],
   "source": [
    "# reading large files\n",
    "def read_file(file_path):\n",
    "    with open(file_path , 'r') as file:\n",
    "        for line in file:\n",
    "            yield line"
   ]
  },
  {
   "cell_type": "code",
   "execution_count": 17,
   "metadata": {},
   "outputs": [
    {
     "name": "stdout",
     "output_type": "stream",
     "text": [
      "Introduction\n",
      "With recent Flutter updates, FlatButton has been deprecated in favor of TextButton, ElevatedButton, and OutlinedButton. However, when working with tappable images or widgets that do not look like traditional buttons, GestureDetector provides a more flexible approach. In this blog, I will walk you through how I used GestureDetector to create an interactive dice roller app.\n",
      "\n",
      "Why GestureDetector?\n",
      "GestureDetector is a widget in Flutter that detects gestures like taps, swipes, long presses, and more. It is particularly useful when you want to add tap functionality to non-button UI elements like images or custom widgets.\n",
      "\n",
      "Implementing GestureDetector for Tappable Dice\n",
      "In my Flutter dice roller app, I needed the dice images to act as buttons. Instead of using traditional buttons, I wrapped the Image.asset widgets inside GestureDetector to detect taps and update the dice values.\n",
      "\n",
      "Code Implementation\n",
      "dart\n",
      "Copy\n",
      "Edit\n",
      "@override\n",
      "Widget build(BuildContext context) {\n",
      "return Center(\n",
      "child: Row(\n",
      "children: [\n",
      "Expanded(\n",
      "child: GestureDetector(\n",
      "onTap: rollDice1, // Function to roll left dice\n",
      "child: Padding(\n",
      "padding: const EdgeInsets.all(16.0),\n",
      "child: Image.asset('images/dice$leftDiceNumber.png'),\n",
      "),\n",
      "),\n",
      "),\n",
      "Expanded(\n",
      "child: GestureDetector(\n",
      "onTap: rollDice2, // Function to roll right dice\n",
      "child: Padding(\n",
      "padding: const EdgeInsets.all(16.0),\n",
      "child: Image.asset('images/dice$rightDiceNumber.png'),\n",
      "),\n",
      "),\n",
      "),\n",
      "],\n",
      "),\n",
      ");\n",
      "}\n",
      "How It Works\n",
      "GestureDetector wraps each dice image.\n",
      "The onTap property is assigned a function (rollDice1 or rollDice2) that updates the dice number.\n",
      "When a user taps a dice, the corresponding function is triggered, changing the image dynamically.\n",
      "Advantages of GestureDetector\n",
      "Works with Any Widget – Unlike TextButton, GestureDetector can be used with images, text, containers, or any custom widget.\n",
      "More Gesture Options – It supports multiple gestures like onDoubleTap, onLongPress, and onPanUpdate.\n",
      "More Customization – You can add visual effects, animations, or haptic feedback on tap.\n",
      "Conclusion\n",
      "Replacing FlatButton or TextButton with GestureDetector provides a more intuitive and flexible way to make non-button UI elements interactive. In my dice roller app, this approach helped me seamlessly integrate tap functionality with images. If you're looking to add custom interactions beyond standard buttons, GestureDetector is an excellent choice.\n",
      "\n",
      "Would you use GestureDetector in your next Flutter project? Let me know your thoughts! 🚀\n",
      "\n"
     ]
    }
   ],
   "source": [
    "file_path = 'largeFile.txt'\n",
    "for line in read_file(file_path):\n",
    "    print(line.strip()) "
   ]
  },
  {
   "cell_type": "code",
   "execution_count": null,
   "metadata": {},
   "outputs": [],
   "source": []
  }
 ],
 "metadata": {
  "kernelspec": {
   "display_name": "Python 3",
   "language": "python",
   "name": "python3"
  },
  "language_info": {
   "codemirror_mode": {
    "name": "ipython",
    "version": 3
   },
   "file_extension": ".py",
   "mimetype": "text/x-python",
   "name": "python",
   "nbconvert_exporter": "python",
   "pygments_lexer": "ipython3",
   "version": "3.10.0"
  }
 },
 "nbformat": 4,
 "nbformat_minor": 2
}
